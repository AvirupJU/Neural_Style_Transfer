{
 "cells": [
  {
   "cell_type": "code",
   "execution_count": null,
   "metadata": {},
   "outputs": [],
   "source": [
    "import torch\n",
    "import torch.nn as nn\n",
    "import torch.functional as F\n",
    "import torch.optim as optim\n",
    "from PIL import Image\n",
    "import torchvision.transforms as transforms\n",
    "import torchvision.models as models\n",
    "from torchvision.utils import save_image"
   ]
  },
  {
   "cell_type": "code",
   "execution_count": null,
   "metadata": {},
   "outputs": [],
   "source": [
    "model = models.vgg19(pretrained=True).features\n",
    "\n",
    "class VGG(nn.Module):\n",
    "    def __init__(self):\n",
    "        super(VGG,self).__init__()\n",
    "        \n",
    "        self.chosen_features=['0','5','10','19','28']\n",
    "        self.model=models.vgg19(pretrained=True).features[:29]\n",
    "        \n",
    "    def forward(self,x):\n",
    "        features=[]\n",
    "        for layer_num,layer in enumerate(self.model):\n",
    "            x=layer(x)\n",
    "            if str(layer_num) in self.chosen_features:\n",
    "                features.append(x)\n",
    "        return features\n",
    "\n",
    "def load_image(image_name):\n",
    "    image = Image.open(image_name)\n",
    "    image = loader(image).unsqueeze(0)\n",
    "    return image\n",
    "\n",
    "image_size = 200\n",
    "\n",
    "loader = transforms.Compose(\n",
    "    [\n",
    "        transforms.Resize((image_size,image_size)),\n",
    "        transforms.ToTensor(),\n",
    "        \n",
    "    ])\n"
   ]
  },
  {
   "cell_type": "code",
   "execution_count": null,
   "metadata": {},
   "outputs": [],
   "source": [
    "original_img = load_image(\"meme.jpg\")\n",
    "style_img = load_image(\"style3.jpg\")\n",
    "model = VGG().eval()\n",
    "generated = original_img.clone().requires_grad_(True)\n",
    "\n",
    "total_steps = 5000\n",
    "lr_rate = 0.001\n",
    "alpha = 1\n",
    "beta = 0.01\n",
    "\n",
    "optimizer = optim.Adam([generated],lr=lr_rate)\n",
    "\n",
    "for step in range(total_steps):\n",
    "    generated_features = model(generated)\n",
    "    original_img_features = model(original_img)\n",
    "    style_features = model(style_img)\n",
    "    \n",
    "    style_loss = original_loss = 0\n",
    "    \n",
    "    for gen_feature, orig_feature, style_feature in zip(generated_features,original_img_features\n",
    "                                                       ,style_features):\n",
    "        batch_size,channel,height,width = gen_feature.shape\n",
    "        original_loss+= torch.mean((gen_feature - orig_feature)**2)\n",
    "        \n",
    "        G = gen_feature.view(channel, height*width).mm(gen_feature.view(channel, height*width).t())\n",
    "        \n",
    "        A = style_feature.view(channel, height*width).mm(style_feature.view(channel, height*width).t())\n",
    "        \n",
    "        style_loss = torch.mean((G-A)**2)\n",
    "        \n",
    "    total_loss = alpha*original_loss + beta*style_loss\n",
    "    optimizer.zero_grad()\n",
    "    total_loss.backward()\n",
    "    optimizer.step()\n",
    "    \n",
    "    if step%2500==0:\n",
    "        print(total_loss)\n",
    "        save_image(generated,f\"gen{step}.png\")\n",
    "       "
   ]
  }
 ],
 "metadata": {
  "kernelspec": {
   "display_name": "Python 3",
   "language": "python",
   "name": "python3"
  },
  "language_info": {
   "codemirror_mode": {
    "name": "ipython",
    "version": 3
   },
   "file_extension": ".py",
   "mimetype": "text/x-python",
   "name": "python",
   "nbconvert_exporter": "python",
   "pygments_lexer": "ipython3",
   "version": "3.7.8"
  }
 },
 "nbformat": 4,
 "nbformat_minor": 4
}
